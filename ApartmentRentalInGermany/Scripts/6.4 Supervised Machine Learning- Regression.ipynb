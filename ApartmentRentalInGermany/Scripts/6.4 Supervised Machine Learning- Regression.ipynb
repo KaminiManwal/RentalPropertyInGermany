{
 "cells": [
  {
   "cell_type": "markdown",
   "id": "72f64f0a",
   "metadata": {},
   "source": [
    "## Supervised Machine Learning: Regression"
   ]
  },
  {
   "cell_type": "markdown",
   "id": "d049bcde",
   "metadata": {},
   "source": [
    "## 2- Import Libraries"
   ]
  },
  {
   "cell_type": "code",
   "execution_count": 1,
   "id": "ef545b4d",
   "metadata": {},
   "outputs": [],
   "source": [
    "import pandas as pd\n",
    "import numpy as np\n",
    "import os\n",
    "import matplotlib\n",
    "import matplotlib.pyplot as plt\n",
    "import seaborn as sns\n",
    "import sklearn\n",
    "from sklearn.model_selection import train_test_split\n",
    "from sklearn.linear_model import LinearRegression\n",
    "from sklearn.metrics import mean_squared_error,r2_score"
   ]
  },
  {
   "cell_type": "code",
   "execution_count": 2,
   "id": "3bdd450e",
   "metadata": {},
   "outputs": [],
   "source": [
    "# This option ensures that the graphs created are displayed within the notebook\n",
    "\n",
    "%matplotlib inline"
   ]
  },
  {
   "cell_type": "code",
   "execution_count": 3,
   "id": "7713c484",
   "metadata": {},
   "outputs": [],
   "source": [
    "# create path\n",
    "path=r'C:\\Users\\Jatin\\Documents\\ApartmentRentalInGermany'"
   ]
  },
  {
   "cell_type": "code",
   "execution_count": 4,
   "id": "e56bf34c",
   "metadata": {},
   "outputs": [],
   "source": [
    "df=pd.read_csv(os.path.join(path,'Data','Prepared Data','df_immo.csv'))"
   ]
  },
  {
   "cell_type": "markdown",
   "id": "ebe53b7c",
   "metadata": {},
   "source": [
    "## 3- Clean data"
   ]
  },
  {
   "cell_type": "code",
   "execution_count": 5,
   "id": "965ac832",
   "metadata": {},
   "outputs": [
    {
     "data": {
      "text/html": [
       "<div>\n",
       "<style scoped>\n",
       "    .dataframe tbody tr th:only-of-type {\n",
       "        vertical-align: middle;\n",
       "    }\n",
       "\n",
       "    .dataframe tbody tr th {\n",
       "        vertical-align: top;\n",
       "    }\n",
       "\n",
       "    .dataframe thead th {\n",
       "        text-align: right;\n",
       "    }\n",
       "</style>\n",
       "<table border=\"1\" class=\"dataframe\">\n",
       "  <thead>\n",
       "    <tr style=\"text-align: right;\">\n",
       "      <th></th>\n",
       "      <th>Unnamed: 0.1</th>\n",
       "      <th>Unnamed: 0</th>\n",
       "      <th>state</th>\n",
       "      <th>serviceCharge</th>\n",
       "      <th>heatingType</th>\n",
       "      <th>newlyConstructed</th>\n",
       "      <th>balcony</th>\n",
       "      <th>totalRent</th>\n",
       "      <th>yearConstructed</th>\n",
       "      <th>hasKitchen</th>\n",
       "      <th>...</th>\n",
       "      <th>typeOfFlat</th>\n",
       "      <th>geo_plz</th>\n",
       "      <th>numberOfRooms</th>\n",
       "      <th>floor</th>\n",
       "      <th>garden</th>\n",
       "      <th>district</th>\n",
       "      <th>city</th>\n",
       "      <th>date</th>\n",
       "      <th>Rent_livingSpace</th>\n",
       "      <th>Rent_yearConstructed</th>\n",
       "    </tr>\n",
       "  </thead>\n",
       "  <tbody>\n",
       "    <tr>\n",
       "      <th>0</th>\n",
       "      <td>0</td>\n",
       "      <td>0</td>\n",
       "      <td>Nordrhein_Westfalen</td>\n",
       "      <td>245.00</td>\n",
       "      <td>central_heating</td>\n",
       "      <td>False</td>\n",
       "      <td>False</td>\n",
       "      <td>840.0</td>\n",
       "      <td>1965</td>\n",
       "      <td>False</td>\n",
       "      <td>...</td>\n",
       "      <td>ground_floor</td>\n",
       "      <td>44269</td>\n",
       "      <td>4</td>\n",
       "      <td>1</td>\n",
       "      <td>True</td>\n",
       "      <td>Dortmund</td>\n",
       "      <td>Schüren</td>\n",
       "      <td>May19</td>\n",
       "      <td>Low price</td>\n",
       "      <td>Middle price1</td>\n",
       "    </tr>\n",
       "    <tr>\n",
       "      <th>1</th>\n",
       "      <td>1</td>\n",
       "      <td>1</td>\n",
       "      <td>Rheinland_Pfalz</td>\n",
       "      <td>134.00</td>\n",
       "      <td>self_contained_central_heating</td>\n",
       "      <td>False</td>\n",
       "      <td>True</td>\n",
       "      <td>902.0</td>\n",
       "      <td>1871</td>\n",
       "      <td>False</td>\n",
       "      <td>...</td>\n",
       "      <td>ground_floor</td>\n",
       "      <td>67459</td>\n",
       "      <td>3</td>\n",
       "      <td>2</td>\n",
       "      <td>False</td>\n",
       "      <td>Rhein_Pfalz_Kreis</td>\n",
       "      <td>Böhl_Iggelheim</td>\n",
       "      <td>May19</td>\n",
       "      <td>Low price</td>\n",
       "      <td>Low price1</td>\n",
       "    </tr>\n",
       "    <tr>\n",
       "      <th>2</th>\n",
       "      <td>2</td>\n",
       "      <td>2</td>\n",
       "      <td>Sachsen</td>\n",
       "      <td>255.00</td>\n",
       "      <td>floor_heating</td>\n",
       "      <td>True</td>\n",
       "      <td>True</td>\n",
       "      <td>1300.0</td>\n",
       "      <td>2019</td>\n",
       "      <td>False</td>\n",
       "      <td>...</td>\n",
       "      <td>apartment</td>\n",
       "      <td>1097</td>\n",
       "      <td>3</td>\n",
       "      <td>3</td>\n",
       "      <td>False</td>\n",
       "      <td>Dresden</td>\n",
       "      <td>Äußere_Neustadt_Antonstadt</td>\n",
       "      <td>Oct19</td>\n",
       "      <td>Low price</td>\n",
       "      <td>High price1</td>\n",
       "    </tr>\n",
       "    <tr>\n",
       "      <th>3</th>\n",
       "      <td>3</td>\n",
       "      <td>3</td>\n",
       "      <td>Sachsen</td>\n",
       "      <td>58.15</td>\n",
       "      <td>district_heating</td>\n",
       "      <td>False</td>\n",
       "      <td>True</td>\n",
       "      <td>902.0</td>\n",
       "      <td>1964</td>\n",
       "      <td>False</td>\n",
       "      <td>...</td>\n",
       "      <td>other</td>\n",
       "      <td>9599</td>\n",
       "      <td>3</td>\n",
       "      <td>3</td>\n",
       "      <td>False</td>\n",
       "      <td>Mittelsachsen_Kreis</td>\n",
       "      <td>Freiberg</td>\n",
       "      <td>May19</td>\n",
       "      <td>Low price</td>\n",
       "      <td>Middle price1</td>\n",
       "    </tr>\n",
       "    <tr>\n",
       "      <th>4</th>\n",
       "      <td>4</td>\n",
       "      <td>4</td>\n",
       "      <td>Bremen</td>\n",
       "      <td>138.00</td>\n",
       "      <td>self_contained_central_heating</td>\n",
       "      <td>False</td>\n",
       "      <td>True</td>\n",
       "      <td>903.0</td>\n",
       "      <td>1950</td>\n",
       "      <td>False</td>\n",
       "      <td>...</td>\n",
       "      <td>apartment</td>\n",
       "      <td>28213</td>\n",
       "      <td>3</td>\n",
       "      <td>1</td>\n",
       "      <td>False</td>\n",
       "      <td>Bremen</td>\n",
       "      <td>Neu_Schwachhausen</td>\n",
       "      <td>Feb20</td>\n",
       "      <td>Low price</td>\n",
       "      <td>Middle price1</td>\n",
       "    </tr>\n",
       "  </tbody>\n",
       "</table>\n",
       "<p>5 rows × 25 columns</p>\n",
       "</div>"
      ],
      "text/plain": [
       "   Unnamed: 0.1  Unnamed: 0                state  serviceCharge  \\\n",
       "0             0           0  Nordrhein_Westfalen         245.00   \n",
       "1             1           1      Rheinland_Pfalz         134.00   \n",
       "2             2           2              Sachsen         255.00   \n",
       "3             3           3              Sachsen          58.15   \n",
       "4             4           4               Bremen         138.00   \n",
       "\n",
       "                      heatingType  newlyConstructed  balcony  totalRent  \\\n",
       "0                 central_heating             False    False      840.0   \n",
       "1  self_contained_central_heating             False     True      902.0   \n",
       "2                   floor_heating              True     True     1300.0   \n",
       "3                district_heating             False     True      902.0   \n",
       "4  self_contained_central_heating             False     True      903.0   \n",
       "\n",
       "   yearConstructed  hasKitchen  ...    typeOfFlat  geo_plz  numberOfRooms  \\\n",
       "0             1965       False  ...  ground_floor    44269              4   \n",
       "1             1871       False  ...  ground_floor    67459              3   \n",
       "2             2019       False  ...     apartment     1097              3   \n",
       "3             1964       False  ...         other     9599              3   \n",
       "4             1950       False  ...     apartment    28213              3   \n",
       "\n",
       "  floor  garden             district                        city   date  \\\n",
       "0     1    True             Dortmund                     Schüren  May19   \n",
       "1     2   False    Rhein_Pfalz_Kreis              Böhl_Iggelheim  May19   \n",
       "2     3   False              Dresden  Äußere_Neustadt_Antonstadt  Oct19   \n",
       "3     3   False  Mittelsachsen_Kreis                    Freiberg  May19   \n",
       "4     1   False               Bremen           Neu_Schwachhausen  Feb20   \n",
       "\n",
       "   Rent_livingSpace  Rent_yearConstructed  \n",
       "0         Low price         Middle price1  \n",
       "1         Low price            Low price1  \n",
       "2         Low price           High price1  \n",
       "3         Low price         Middle price1  \n",
       "4         Low price         Middle price1  \n",
       "\n",
       "[5 rows x 25 columns]"
      ]
     },
     "execution_count": 5,
     "metadata": {},
     "output_type": "execute_result"
    }
   ],
   "source": [
    "df.head()"
   ]
  },
  {
   "cell_type": "code",
   "execution_count": 6,
   "id": "99eea918",
   "metadata": {},
   "outputs": [
    {
     "data": {
      "text/plain": [
       "(264874, 25)"
      ]
     },
     "execution_count": 6,
     "metadata": {},
     "output_type": "execute_result"
    }
   ],
   "source": [
    "df.shape"
   ]
  },
  {
   "cell_type": "code",
   "execution_count": 7,
   "id": "20362db8",
   "metadata": {},
   "outputs": [],
   "source": [
    "# drop unnamed columns from prepared data\n",
    "df = df.drop(columns = ['Unnamed: 0','Unnamed: 0.1'])"
   ]
  },
  {
   "cell_type": "code",
   "execution_count": 8,
   "id": "7cf0ec4e",
   "metadata": {},
   "outputs": [
    {
     "data": {
      "text/html": [
       "<div>\n",
       "<style scoped>\n",
       "    .dataframe tbody tr th:only-of-type {\n",
       "        vertical-align: middle;\n",
       "    }\n",
       "\n",
       "    .dataframe tbody tr th {\n",
       "        vertical-align: top;\n",
       "    }\n",
       "\n",
       "    .dataframe thead th {\n",
       "        text-align: right;\n",
       "    }\n",
       "</style>\n",
       "<table border=\"1\" class=\"dataframe\">\n",
       "  <thead>\n",
       "    <tr style=\"text-align: right;\">\n",
       "      <th></th>\n",
       "      <th>state</th>\n",
       "      <th>serviceCharge</th>\n",
       "      <th>heatingType</th>\n",
       "      <th>newlyConstructed</th>\n",
       "      <th>balcony</th>\n",
       "      <th>totalRent</th>\n",
       "      <th>yearConstructed</th>\n",
       "      <th>hasKitchen</th>\n",
       "      <th>cellar</th>\n",
       "      <th>baseRent</th>\n",
       "      <th>...</th>\n",
       "      <th>typeOfFlat</th>\n",
       "      <th>geo_plz</th>\n",
       "      <th>numberOfRooms</th>\n",
       "      <th>floor</th>\n",
       "      <th>garden</th>\n",
       "      <th>district</th>\n",
       "      <th>city</th>\n",
       "      <th>date</th>\n",
       "      <th>Rent_livingSpace</th>\n",
       "      <th>Rent_yearConstructed</th>\n",
       "    </tr>\n",
       "  </thead>\n",
       "  <tbody>\n",
       "    <tr>\n",
       "      <th>0</th>\n",
       "      <td>Nordrhein_Westfalen</td>\n",
       "      <td>245.00</td>\n",
       "      <td>central_heating</td>\n",
       "      <td>False</td>\n",
       "      <td>False</td>\n",
       "      <td>840.0</td>\n",
       "      <td>1965</td>\n",
       "      <td>False</td>\n",
       "      <td>True</td>\n",
       "      <td>595.0</td>\n",
       "      <td>...</td>\n",
       "      <td>ground_floor</td>\n",
       "      <td>44269</td>\n",
       "      <td>4</td>\n",
       "      <td>1</td>\n",
       "      <td>True</td>\n",
       "      <td>Dortmund</td>\n",
       "      <td>Schüren</td>\n",
       "      <td>May19</td>\n",
       "      <td>Low price</td>\n",
       "      <td>Middle price1</td>\n",
       "    </tr>\n",
       "    <tr>\n",
       "      <th>1</th>\n",
       "      <td>Rheinland_Pfalz</td>\n",
       "      <td>134.00</td>\n",
       "      <td>self_contained_central_heating</td>\n",
       "      <td>False</td>\n",
       "      <td>True</td>\n",
       "      <td>902.0</td>\n",
       "      <td>1871</td>\n",
       "      <td>False</td>\n",
       "      <td>False</td>\n",
       "      <td>800.0</td>\n",
       "      <td>...</td>\n",
       "      <td>ground_floor</td>\n",
       "      <td>67459</td>\n",
       "      <td>3</td>\n",
       "      <td>2</td>\n",
       "      <td>False</td>\n",
       "      <td>Rhein_Pfalz_Kreis</td>\n",
       "      <td>Böhl_Iggelheim</td>\n",
       "      <td>May19</td>\n",
       "      <td>Low price</td>\n",
       "      <td>Low price1</td>\n",
       "    </tr>\n",
       "    <tr>\n",
       "      <th>2</th>\n",
       "      <td>Sachsen</td>\n",
       "      <td>255.00</td>\n",
       "      <td>floor_heating</td>\n",
       "      <td>True</td>\n",
       "      <td>True</td>\n",
       "      <td>1300.0</td>\n",
       "      <td>2019</td>\n",
       "      <td>False</td>\n",
       "      <td>True</td>\n",
       "      <td>965.0</td>\n",
       "      <td>...</td>\n",
       "      <td>apartment</td>\n",
       "      <td>1097</td>\n",
       "      <td>3</td>\n",
       "      <td>3</td>\n",
       "      <td>False</td>\n",
       "      <td>Dresden</td>\n",
       "      <td>Äußere_Neustadt_Antonstadt</td>\n",
       "      <td>Oct19</td>\n",
       "      <td>Low price</td>\n",
       "      <td>High price1</td>\n",
       "    </tr>\n",
       "    <tr>\n",
       "      <th>3</th>\n",
       "      <td>Sachsen</td>\n",
       "      <td>58.15</td>\n",
       "      <td>district_heating</td>\n",
       "      <td>False</td>\n",
       "      <td>True</td>\n",
       "      <td>902.0</td>\n",
       "      <td>1964</td>\n",
       "      <td>False</td>\n",
       "      <td>False</td>\n",
       "      <td>343.0</td>\n",
       "      <td>...</td>\n",
       "      <td>other</td>\n",
       "      <td>9599</td>\n",
       "      <td>3</td>\n",
       "      <td>3</td>\n",
       "      <td>False</td>\n",
       "      <td>Mittelsachsen_Kreis</td>\n",
       "      <td>Freiberg</td>\n",
       "      <td>May19</td>\n",
       "      <td>Low price</td>\n",
       "      <td>Middle price1</td>\n",
       "    </tr>\n",
       "    <tr>\n",
       "      <th>4</th>\n",
       "      <td>Bremen</td>\n",
       "      <td>138.00</td>\n",
       "      <td>self_contained_central_heating</td>\n",
       "      <td>False</td>\n",
       "      <td>True</td>\n",
       "      <td>903.0</td>\n",
       "      <td>1950</td>\n",
       "      <td>False</td>\n",
       "      <td>False</td>\n",
       "      <td>765.0</td>\n",
       "      <td>...</td>\n",
       "      <td>apartment</td>\n",
       "      <td>28213</td>\n",
       "      <td>3</td>\n",
       "      <td>1</td>\n",
       "      <td>False</td>\n",
       "      <td>Bremen</td>\n",
       "      <td>Neu_Schwachhausen</td>\n",
       "      <td>Feb20</td>\n",
       "      <td>Low price</td>\n",
       "      <td>Middle price1</td>\n",
       "    </tr>\n",
       "  </tbody>\n",
       "</table>\n",
       "<p>5 rows × 23 columns</p>\n",
       "</div>"
      ],
      "text/plain": [
       "                 state  serviceCharge                     heatingType  \\\n",
       "0  Nordrhein_Westfalen         245.00                 central_heating   \n",
       "1      Rheinland_Pfalz         134.00  self_contained_central_heating   \n",
       "2              Sachsen         255.00                   floor_heating   \n",
       "3              Sachsen          58.15                district_heating   \n",
       "4               Bremen         138.00  self_contained_central_heating   \n",
       "\n",
       "   newlyConstructed  balcony  totalRent  yearConstructed  hasKitchen  cellar  \\\n",
       "0             False    False      840.0             1965       False    True   \n",
       "1             False     True      902.0             1871       False   False   \n",
       "2              True     True     1300.0             2019       False    True   \n",
       "3             False     True      902.0             1964       False   False   \n",
       "4             False     True      903.0             1950       False   False   \n",
       "\n",
       "   baseRent  ...    typeOfFlat geo_plz  numberOfRooms floor  garden  \\\n",
       "0     595.0  ...  ground_floor   44269              4     1    True   \n",
       "1     800.0  ...  ground_floor   67459              3     2   False   \n",
       "2     965.0  ...     apartment    1097              3     3   False   \n",
       "3     343.0  ...         other    9599              3     3   False   \n",
       "4     765.0  ...     apartment   28213              3     1   False   \n",
       "\n",
       "              district                        city   date Rent_livingSpace  \\\n",
       "0             Dortmund                     Schüren  May19        Low price   \n",
       "1    Rhein_Pfalz_Kreis              Böhl_Iggelheim  May19        Low price   \n",
       "2              Dresden  Äußere_Neustadt_Antonstadt  Oct19        Low price   \n",
       "3  Mittelsachsen_Kreis                    Freiberg  May19        Low price   \n",
       "4               Bremen           Neu_Schwachhausen  Feb20        Low price   \n",
       "\n",
       "  Rent_yearConstructed  \n",
       "0        Middle price1  \n",
       "1           Low price1  \n",
       "2          High price1  \n",
       "3        Middle price1  \n",
       "4        Middle price1  \n",
       "\n",
       "[5 rows x 23 columns]"
      ]
     },
     "execution_count": 8,
     "metadata": {},
     "output_type": "execute_result"
    }
   ],
   "source": [
    "df.head()"
   ]
  },
  {
   "cell_type": "code",
   "execution_count": 9,
   "id": "db67a8ec",
   "metadata": {},
   "outputs": [
    {
     "name": "stdout",
     "output_type": "stream",
     "text": [
      "heatingType\n",
      "condition\n",
      "typeOfFlat\n"
     ]
    }
   ],
   "source": [
    "# Checking for mixed type data\n",
    "for col in df.columns.tolist():\n",
    "  weird = (df[[col]].applymap(type) != df[[col]].iloc[0].apply(type)).any(axis = 1)\n",
    "  if len (df[weird]) > 0:\n",
    "    print (col)"
   ]
  },
  {
   "cell_type": "code",
   "execution_count": 10,
   "id": "e6ff36b1",
   "metadata": {},
   "outputs": [],
   "source": [
    "# Updating heatingType column data type to string\n",
    "df['heatingType']=df['heatingType'].astype('str')"
   ]
  },
  {
   "cell_type": "code",
   "execution_count": 11,
   "id": "848c36db",
   "metadata": {},
   "outputs": [],
   "source": [
    "# Updating condition column data type to string\n",
    "df['condition']=df['condition'].astype('str')"
   ]
  },
  {
   "cell_type": "code",
   "execution_count": 12,
   "id": "f86cf4ab",
   "metadata": {},
   "outputs": [],
   "source": [
    "# Updating typeOfFlat column data type to string\n",
    "df['typeOfFlat']=df['typeOfFlat'].astype('str')"
   ]
  },
  {
   "cell_type": "code",
   "execution_count": 13,
   "id": "5ae6c522",
   "metadata": {},
   "outputs": [],
   "source": [
    "# Checking for mixed type data again\n",
    "for col in df.columns.tolist():\n",
    "  weird = (df[[col]].applymap(type) != df[[col]].iloc[0].apply(type)).any(axis = 1)\n",
    "  if len (df[weird]) > 0:\n",
    "    print (col)"
   ]
  },
  {
   "cell_type": "markdown",
   "id": "7c826292",
   "metadata": {},
   "source": [
    "No mixed type data found."
   ]
  },
  {
   "cell_type": "code",
   "execution_count": 14,
   "id": "765fccef",
   "metadata": {},
   "outputs": [
    {
     "data": {
      "text/plain": [
       "state                   0\n",
       "serviceCharge           0\n",
       "heatingType             0\n",
       "newlyConstructed        0\n",
       "balcony                 0\n",
       "totalRent               0\n",
       "yearConstructed         0\n",
       "hasKitchen              0\n",
       "cellar                  0\n",
       "baseRent                0\n",
       "livingSpace             0\n",
       "condition               0\n",
       "lift                    0\n",
       "typeOfFlat              0\n",
       "geo_plz                 0\n",
       "numberOfRooms           0\n",
       "floor                   0\n",
       "garden                  0\n",
       "district                0\n",
       "city                    0\n",
       "date                    0\n",
       "Rent_livingSpace        0\n",
       "Rent_yearConstructed    0\n",
       "dtype: int64"
      ]
     },
     "execution_count": 14,
     "metadata": {},
     "output_type": "execute_result"
    }
   ],
   "source": [
    "# Checking for missing values\n",
    "df.isnull().sum()"
   ]
  },
  {
   "cell_type": "code",
   "execution_count": 15,
   "id": "fe193dfc",
   "metadata": {},
   "outputs": [],
   "source": [
    "# Creating a subset that contain only rows with duplicate values\n",
    "df_dups = df[df.duplicated()]"
   ]
  },
  {
   "cell_type": "markdown",
   "id": "940fe273",
   "metadata": {},
   "source": [
    "No missing and duplicated values found."
   ]
  },
  {
   "cell_type": "markdown",
   "id": "98362e59",
   "metadata": {},
   "source": [
    "## extreme values check"
   ]
  },
  {
   "cell_type": "code",
   "execution_count": 16,
   "id": "c2e7aebb",
   "metadata": {},
   "outputs": [
    {
     "name": "stderr",
     "output_type": "stream",
     "text": [
      "C:\\Users\\Jatin\\AppData\\Local\\Temp\\ipykernel_9880\\1388641755.py:1: UserWarning: \n",
      "\n",
      "`distplot` is a deprecated function and will be removed in seaborn v0.14.0.\n",
      "\n",
      "Please adapt your code to use either `displot` (a figure-level function with\n",
      "similar flexibility) or `histplot` (an axes-level function for histograms).\n",
      "\n",
      "For a guide to updating your code to use the new functions, please see\n",
      "https://gist.github.com/mwaskom/de44147ed2974457ad6372750bbe5751\n",
      "\n",
      "  sns.distplot(df['livingSpace'], bins=25) # Shows extreme values\n"
     ]
    },
    {
     "data": {
      "text/plain": [
       "<Axes: xlabel='livingSpace', ylabel='Density'>"
      ]
     },
     "execution_count": 16,
     "metadata": {},
     "output_type": "execute_result"
    },
    {
     "data": {
      "image/png": "[encoded data removed]",
      "text/plain": [
       "<Figure size 640x480 with 1 Axes>"
      ]
     },
     "metadata": {},
     "output_type": "display_data"
    }
   ],
   "source": [
    "sns.distplot(df['livingSpace'], bins=25) # Shows extreme values\n",
    "\n",
    "# Some of the outliers in the high values may need to be removed, but let's try without doing so first."
   ]
  },
  {
   "cell_type": "code",
   "execution_count": 17,
   "id": "f0a0f837",
   "metadata": {},
   "outputs": [
    {
     "data": {
      "text/plain": [
       "73.48566843102759"
      ]
     },
     "execution_count": 17,
     "metadata": {},
     "output_type": "execute_result"
    }
   ],
   "source": [
    "df['livingSpace'].mean()"
   ]
  },
  {
   "cell_type": "code",
   "execution_count": 18,
   "id": "39b4b1db",
   "metadata": {},
   "outputs": [
    {
     "data": {
      "text/plain": [
       "67.36"
      ]
     },
     "execution_count": 18,
     "metadata": {},
     "output_type": "execute_result"
    }
   ],
   "source": [
    "df['livingSpace'].median()"
   ]
  },
  {
   "cell_type": "code",
   "execution_count": 19,
   "id": "edb7319a",
   "metadata": {},
   "outputs": [
    {
     "data": {
      "text/plain": [
       "649.0"
      ]
     },
     "execution_count": 19,
     "metadata": {},
     "output_type": "execute_result"
    }
   ],
   "source": [
    "df['livingSpace'].max()"
   ]
  },
  {
   "cell_type": "code",
   "execution_count": 20,
   "id": "7da66f9e",
   "metadata": {},
   "outputs": [
    {
     "name": "stderr",
     "output_type": "stream",
     "text": [
      "C:\\Users\\Jatin\\AppData\\Local\\Temp\\ipykernel_9880\\1536236967.py:1: UserWarning: \n",
      "\n",
      "`distplot` is a deprecated function and will be removed in seaborn v0.14.0.\n",
      "\n",
      "Please adapt your code to use either `displot` (a figure-level function with\n",
      "similar flexibility) or `histplot` (an axes-level function for histograms).\n",
      "\n",
      "For a guide to updating your code to use the new functions, please see\n",
      "https://gist.github.com/mwaskom/de44147ed2974457ad6372750bbe5751\n",
      "\n",
      "  sns.distplot(df['yearConstructed'], bins=25) # Shows extreme values\n"
     ]
    },
    {
     "data": {
      "text/plain": [
       "<Axes: xlabel='yearConstructed', ylabel='Density'>"
      ]
     },
     "execution_count": 20,
     "metadata": {},
     "output_type": "execute_result"
    },
    {
     "data": {
      "image/png": "[encoded data removed]",
      "text/plain": [
       "<Figure size 640x480 with 1 Axes>"
      ]
     },
     "metadata": {},
     "output_type": "display_data"
    }
   ],
   "source": [
    "sns.distplot(df['yearConstructed'], bins=25) # Shows extreme values\n",
    "\n",
    "# Some of the outliers in the high values may need to be removed, but let's try without doing so first."
   ]
  },
  {
   "cell_type": "markdown",
   "id": "3f54f309",
   "metadata": {},
   "source": [
    "## 4- Data preparation for regression analysis"
   ]
  },
  {
   "cell_type": "code",
   "execution_count": 21,
   "id": "8efda1de",
   "metadata": {},
   "outputs": [
    {
     "data": {
      "image/png": "[encoded data removed]",
      "text/plain": [
       "<Figure size 640x480 with 1 Axes>"
      ]
     },
     "metadata": {},
     "output_type": "display_data"
    }
   ],
   "source": [
    "# Create a scatterplot using matplotlib for another look at how the chosen variables plot against each other.\n",
    "\n",
    "df.plot(x = 'livingSpace', y='totalRent',style='o') # The style option creates a scatterplot; without it, we only have lines.\n",
    "plt.title('Living space vs Total rent')  \n",
    "plt.xlabel('Living space')  \n",
    "plt.ylabel('Total rent')  \n",
    "plt.show()"
   ]
  },
  {
   "cell_type": "code",
   "execution_count": 22,
   "id": "bb61487e",
   "metadata": {},
   "outputs": [
    {
     "data": {
      "image/png": "[encoded data removed]",
      "text/plain": [
       "<Figure size 640x480 with 1 Axes>"
      ]
     },
     "metadata": {},
     "output_type": "display_data"
    }
   ],
   "source": [
    "# Create a scatterplot using matplotlib for another look at how the chosen variables plot against each other.\n",
    "\n",
    "df.plot(x = 'yearConstructed', y='totalRent',style='o') # The style option creates a scatterplot; without it, we only have lines.\n",
    "plt.title('Year constructed vs Total rent')  \n",
    "plt.xlabel('Year constructed')  \n",
    "plt.ylabel('Total rent')  \n",
    "plt.show()"
   ]
  },
  {
   "cell_type": "markdown",
   "id": "771619d9",
   "metadata": {},
   "source": [
    "## 5- Hypothesis: "
   ]
  },
  {
   "cell_type": "markdown",
   "id": "013724aa",
   "metadata": {},
   "source": [
    "1. Properties constructed in more recent years demand higher rents due to better amenities.\n",
    "\n",
    "2. There is a positive correlation between the size of living space and rental price, indicating that larger properties tends to higher rents."
   ]
  },
  {
   "cell_type": "markdown",
   "id": "20d7dcf5",
   "metadata": {},
   "source": [
    "## 6- Reshaping variables into Numpy arrays"
   ]
  },
  {
   "cell_type": "code",
   "execution_count": 23,
   "id": "1741af90",
   "metadata": {},
   "outputs": [],
   "source": [
    "# Visualizing relationship between living space and total rent"
   ]
  },
  {
   "cell_type": "code",
   "execution_count": 24,
   "id": "c0fd891a",
   "metadata": {},
   "outputs": [],
   "source": [
    "# Reshape the variables into NumPy arrays and put them into separate objects.\n",
    "\n",
    "X = df['livingSpace'].values.reshape(-1,1)\n",
    "y = df['totalRent'].values.reshape(-1,1)"
   ]
  },
  {
   "cell_type": "code",
   "execution_count": 25,
   "id": "d2a88d98",
   "metadata": {},
   "outputs": [
    {
     "data": {
      "text/plain": [
       "array([[86. ],\n",
       "       [89. ],\n",
       "       [83.8],\n",
       "       ...,\n",
       "       [95. ],\n",
       "       [70. ],\n",
       "       [77. ]])"
      ]
     },
     "execution_count": 25,
     "metadata": {},
     "output_type": "execute_result"
    }
   ],
   "source": [
    "X"
   ]
  },
  {
   "cell_type": "code",
   "execution_count": 26,
   "id": "55012325",
   "metadata": {},
   "outputs": [
    {
     "data": {
      "text/plain": [
       "array([[ 840.],\n",
       "       [ 902.],\n",
       "       [1300.],\n",
       "       ...,\n",
       "       [ 930.],\n",
       "       [1015.],\n",
       "       [ 902.]])"
      ]
     },
     "execution_count": 26,
     "metadata": {},
     "output_type": "execute_result"
    }
   ],
   "source": [
    "y"
   ]
  },
  {
   "cell_type": "markdown",
   "id": "a5029076",
   "metadata": {},
   "source": [
    "## 7- Spliting data"
   ]
  },
  {
   "cell_type": "code",
   "execution_count": 27,
   "id": "ae95f894",
   "metadata": {},
   "outputs": [],
   "source": [
    "# Split data into a training set and a test set.\n",
    "\n",
    "X_train, X_test, y_train, y_test = train_test_split(X, y, test_size=0.3, random_state=0)"
   ]
  },
  {
   "cell_type": "markdown",
   "id": "ddf74832",
   "metadata": {},
   "source": [
    "## 8- Running Linear regression"
   ]
  },
  {
   "cell_type": "code",
   "execution_count": 28,
   "id": "3218f7de",
   "metadata": {},
   "outputs": [],
   "source": [
    "# Create a regression object.\n",
    "\n",
    "regression = LinearRegression()  # This is the regression object, which will be fit onto the training set."
   ]
  },
  {
   "cell_type": "code",
   "execution_count": 29,
   "id": "d4403c3a",
   "metadata": {},
   "outputs": [
    {
     "data": {
      "text/html": [
       "<style>#sk-container-id-1 {color: black;background-color: white;}#sk-container-id-1 pre{padding: 0;}#sk-container-id-1 div.sk-toggleable {background-color: white;}#sk-container-id-1 label.sk-toggleable__label {cursor: pointer;display: block;width: 100%;margin-bottom: 0;padding: 0.3em;box-sizing: border-box;text-align: center;}#sk-container-id-1 label.sk-toggleable__label-arrow:before {content: \"▸\";float: left;margin-right: 0.25em;color: #696969;}#sk-container-id-1 label.sk-toggleable__label-arrow:hover:before {color: black;}#sk-container-id-1 div.sk-estimator:hover label.sk-toggleable__label-arrow:before {color: black;}#sk-container-id-1 div.sk-toggleable__content {max-height: 0;max-width: 0;overflow: hidden;text-align: left;background-color: #f0f8ff;}#sk-container-id-1 div.sk-toggleable__content pre {margin: 0.2em;color: black;border-radius: 0.25em;background-color: #f0f8ff;}#sk-container-id-1 input.sk-toggleable__control:checked~div.sk-toggleable__content {max-height: 200px;max-width: 100%;overflow: auto;}#sk-container-id-1 input.sk-toggleable__control:checked~label.sk-toggleable__label-arrow:before {content: \"▾\";}#sk-container-id-1 div.sk-estimator input.sk-toggleable__control:checked~label.sk-toggleable__label {background-color: #d4ebff;}#sk-container-id-1 div.sk-label input.sk-toggleable__control:checked~label.sk-toggleable__label {background-color: #d4ebff;}#sk-container-id-1 input.sk-hidden--visually {border: 0;clip: rect(1px 1px 1px 1px);clip: rect(1px, 1px, 1px, 1px);height: 1px;margin: -1px;overflow: hidden;padding: 0;position: absolute;width: 1px;}#sk-container-id-1 div.sk-estimator {font-family: monospace;background-color: #f0f8ff;border: 1px dotted black;border-radius: 0.25em;box-sizing: border-box;margin-bottom: 0.5em;}#sk-container-id-1 div.sk-estimator:hover {background-color: #d4ebff;}#sk-container-id-1 div.sk-parallel-item::after {content: \"\";width: 100%;border-bottom: 1px solid gray;flex-grow: 1;}#sk-container-id-1 div.sk-label:hover label.sk-toggleable__label {background-color: #d4ebff;}#sk-container-id-1 div.sk-serial::before {content: \"\";position: absolute;border-left: 1px solid gray;box-sizing: border-box;top: 0;bottom: 0;left: 50%;z-index: 0;}#sk-container-id-1 div.sk-serial {display: flex;flex-direction: column;align-items: center;background-color: white;padding-right: 0.2em;padding-left: 0.2em;position: relative;}#sk-container-id-1 div.sk-item {position: relative;z-index: 1;}#sk-container-id-1 div.sk-parallel {display: flex;align-items: stretch;justify-content: center;background-color: white;position: relative;}#sk-container-id-1 div.sk-item::before, #sk-container-id-1 div.sk-parallel-item::before {content: \"\";position: absolute;border-left: 1px solid gray;box-sizing: border-box;top: 0;bottom: 0;left: 50%;z-index: -1;}#sk-container-id-1 div.sk-parallel-item {display: flex;flex-direction: column;z-index: 1;position: relative;background-color: white;}#sk-container-id-1 div.sk-parallel-item:first-child::after {align-self: flex-end;width: 50%;}#sk-container-id-1 div.sk-parallel-item:last-child::after {align-self: flex-start;width: 50%;}#sk-container-id-1 div.sk-parallel-item:only-child::after {width: 0;}#sk-container-id-1 div.sk-dashed-wrapped {border: 1px dashed gray;margin: 0 0.4em 0.5em 0.4em;box-sizing: border-box;padding-bottom: 0.4em;background-color: white;}#sk-container-id-1 div.sk-label label {font-family: monospace;font-weight: bold;display: inline-block;line-height: 1.2em;}#sk-container-id-1 div.sk-label-container {text-align: center;}#sk-container-id-1 div.sk-container {/* jupyter's `normalize.less` sets `[hidden] { display: none; }` but bootstrap.min.css set `[hidden] { display: none !important; }` so we also need the `!important` here to be able to override the default hidden behavior on the sphinx rendered scikit-learn.org. See: https://github.com/scikit-learn/scikit-learn/issues/21755 */display: inline-block !important;position: relative;}#sk-container-id-1 div.sk-text-repr-fallback {display: none;}</style><div id=\"sk-container-id-1\" class=\"sk-top-container\"><div class=\"sk-text-repr-fallback\"><pre>LinearRegression()</pre><b>In a Jupyter environment, please rerun this cell to show the HTML representation or trust the notebook. <br />On GitHub, the HTML representation is unable to render, please try loading this page with nbviewer.org.</b></div><div class=\"sk-container\" hidden><div class=\"sk-item\"><div class=\"sk-estimator sk-toggleable\"><input class=\"sk-toggleable__control sk-hidden--visually\" id=\"sk-estimator-id-1\" type=\"checkbox\" checked><label for=\"sk-estimator-id-1\" class=\"sk-toggleable__label sk-toggleable__label-arrow\">LinearRegression</label><div class=\"sk-toggleable__content\"><pre>LinearRegression()</pre></div></div></div></div></div>"
      ],
      "text/plain": [
       "LinearRegression()"
      ]
     },
     "execution_count": 29,
     "metadata": {},
     "output_type": "execute_result"
    }
   ],
   "source": [
    "# Fit the regression object onto the training set.\n",
    "\n",
    "regression.fit(X_train, y_train)"
   ]
  },
  {
   "cell_type": "code",
   "execution_count": 30,
   "id": "03179b73",
   "metadata": {},
   "outputs": [],
   "source": [
    "# Predict the values of y using X.\n",
    "\n",
    "y_predicted = regression.predict(X_test)"
   ]
  },
  {
   "cell_type": "markdown",
   "id": "8da9cbb4",
   "metadata": {},
   "source": [
    "## 9- Create a plot that shows regression line on the test set"
   ]
  },
  {
   "cell_type": "code",
   "execution_count": 31,
   "id": "2c2bcf15",
   "metadata": {},
   "outputs": [
    {
     "data": {
      "image/png": "[encoded data removed]",
      "text/plain": [
       "<Figure size 640x480 with 1 Axes>"
      ]
     },
     "metadata": {},
     "output_type": "display_data"
    }
   ],
   "source": [
    "# Create a plot that shows the regression line from the model on the test set.\n",
    "\n",
    "plot_test = plt\n",
    "plot_test.scatter(X_test, y_test, color='gray', s = 15)\n",
    "plot_test.plot(X_test, y_predicted, color='red', linewidth =3)\n",
    "plot_test.title('Living space vs Total rent (Test set)')\n",
    "plot_test.xlabel('Living space')\n",
    "plot_test.ylabel('Total rent')\n",
    "plot_test.show()"
   ]
  },
  {
   "cell_type": "markdown",
   "id": "4dcdfac3",
   "metadata": {},
   "source": [
    "The Regression line almost fit the data, however the maximum data points are far from the trend line. Before interpreting, I would see the regression line in training set first."
   ]
  },
  {
   "cell_type": "markdown",
   "id": "12e7482c",
   "metadata": {},
   "source": [
    "## 11- Model performance statistics"
   ]
  },
  {
   "cell_type": "code",
   "execution_count": 32,
   "id": "6997f87d",
   "metadata": {},
   "outputs": [],
   "source": [
    "# Create objects that contain the model summary statistics.\n",
    "\n",
    "rmse = mean_squared_error(y_test, y_predicted) # This is the mean squared error\n",
    "r2 = r2_score(y_test, y_predicted) # This is the R2 score. "
   ]
  },
  {
   "cell_type": "code",
   "execution_count": 33,
   "id": "907252a3",
   "metadata": {},
   "outputs": [
    {
     "name": "stdout",
     "output_type": "stream",
     "text": [
      "Slope: [[10.89928355]]\n",
      "Mean squared error:  146346.8152208594\n",
      "R2 score:  0.44857320853009786\n"
     ]
    }
   ],
   "source": [
    "# Print the model summary statistics. This is where you evaluate the performance of the model.\n",
    "\n",
    "print('Slope:' ,regression.coef_)\n",
    "print('Mean squared error: ', rmse)\n",
    "print('R2 score: ', r2)"
   ]
  },
  {
   "cell_type": "code",
   "execution_count": 34,
   "id": "85565fb1",
   "metadata": {},
   "outputs": [
    {
     "data": {
      "text/plain": [
       "array([[ 801.87346544],\n",
       "       [ 299.41649401],\n",
       "       [ 574.51441069],\n",
       "       ...,\n",
       "       [1204.05702825],\n",
       "       [ 575.71333188],\n",
       "       [ 560.99929909]])"
      ]
     },
     "execution_count": 34,
     "metadata": {},
     "output_type": "execute_result"
    }
   ],
   "source": [
    "y_predicted"
   ]
  },
  {
   "cell_type": "markdown",
   "id": "82ea914e",
   "metadata": {},
   "source": [
    "## 12- Comparing the predicted y values with the actual y values"
   ]
  },
  {
   "cell_type": "code",
   "execution_count": 35,
   "id": "44b3c482",
   "metadata": {},
   "outputs": [
    {
     "data": {
      "text/html": [
       "<div>\n",
       "<style scoped>\n",
       "    .dataframe tbody tr th:only-of-type {\n",
       "        vertical-align: middle;\n",
       "    }\n",
       "\n",
       "    .dataframe tbody tr th {\n",
       "        vertical-align: top;\n",
       "    }\n",
       "\n",
       "    .dataframe thead th {\n",
       "        text-align: right;\n",
       "    }\n",
       "</style>\n",
       "<table border=\"1\" class=\"dataframe\">\n",
       "  <thead>\n",
       "    <tr style=\"text-align: right;\">\n",
       "      <th></th>\n",
       "      <th>Actual</th>\n",
       "      <th>Predicted</th>\n",
       "    </tr>\n",
       "  </thead>\n",
       "  <tbody>\n",
       "    <tr>\n",
       "      <th>0</th>\n",
       "      <td>1105.00</td>\n",
       "      <td>801.873465</td>\n",
       "    </tr>\n",
       "    <tr>\n",
       "      <th>1</th>\n",
       "      <td>902.00</td>\n",
       "      <td>299.416494</td>\n",
       "    </tr>\n",
       "    <tr>\n",
       "      <th>2</th>\n",
       "      <td>552.00</td>\n",
       "      <td>574.514411</td>\n",
       "    </tr>\n",
       "    <tr>\n",
       "      <th>3</th>\n",
       "      <td>3290.00</td>\n",
       "      <td>1247.654162</td>\n",
       "    </tr>\n",
       "    <tr>\n",
       "      <th>4</th>\n",
       "      <td>1180.00</td>\n",
       "      <td>1084.164909</td>\n",
       "    </tr>\n",
       "    <tr>\n",
       "      <th>5</th>\n",
       "      <td>670.00</td>\n",
       "      <td>680.891418</td>\n",
       "    </tr>\n",
       "    <tr>\n",
       "      <th>6</th>\n",
       "      <td>385.00</td>\n",
       "      <td>549.010087</td>\n",
       "    </tr>\n",
       "    <tr>\n",
       "      <th>7</th>\n",
       "      <td>902.00</td>\n",
       "      <td>1126.454129</td>\n",
       "    </tr>\n",
       "    <tr>\n",
       "      <th>8</th>\n",
       "      <td>846.65</td>\n",
       "      <td>738.766614</td>\n",
       "    </tr>\n",
       "    <tr>\n",
       "      <th>9</th>\n",
       "      <td>824.61</td>\n",
       "      <td>1007.215967</td>\n",
       "    </tr>\n",
       "    <tr>\n",
       "      <th>10</th>\n",
       "      <td>490.00</td>\n",
       "      <td>615.495717</td>\n",
       "    </tr>\n",
       "    <tr>\n",
       "      <th>11</th>\n",
       "      <td>379.06</td>\n",
       "      <td>737.785678</td>\n",
       "    </tr>\n",
       "    <tr>\n",
       "      <th>12</th>\n",
       "      <td>413.00</td>\n",
       "      <td>707.049699</td>\n",
       "    </tr>\n",
       "    <tr>\n",
       "      <th>13</th>\n",
       "      <td>480.00</td>\n",
       "      <td>746.287119</td>\n",
       "    </tr>\n",
       "    <tr>\n",
       "      <th>14</th>\n",
       "      <td>490.00</td>\n",
       "      <td>606.994276</td>\n",
       "    </tr>\n",
       "    <tr>\n",
       "      <th>15</th>\n",
       "      <td>891.00</td>\n",
       "      <td>648.302560</td>\n",
       "    </tr>\n",
       "    <tr>\n",
       "      <th>16</th>\n",
       "      <td>319.00</td>\n",
       "      <td>472.715102</td>\n",
       "    </tr>\n",
       "    <tr>\n",
       "      <th>17</th>\n",
       "      <td>1550.00</td>\n",
       "      <td>898.877089</td>\n",
       "    </tr>\n",
       "    <tr>\n",
       "      <th>18</th>\n",
       "      <td>339.00</td>\n",
       "      <td>446.556822</td>\n",
       "    </tr>\n",
       "    <tr>\n",
       "      <th>19</th>\n",
       "      <td>902.00</td>\n",
       "      <td>375.711479</td>\n",
       "    </tr>\n",
       "    <tr>\n",
       "      <th>20</th>\n",
       "      <td>277.00</td>\n",
       "      <td>563.615127</td>\n",
       "    </tr>\n",
       "    <tr>\n",
       "      <th>21</th>\n",
       "      <td>902.00</td>\n",
       "      <td>887.977805</td>\n",
       "    </tr>\n",
       "    <tr>\n",
       "      <th>22</th>\n",
       "      <td>700.00</td>\n",
       "      <td>1087.107716</td>\n",
       "    </tr>\n",
       "    <tr>\n",
       "      <th>23</th>\n",
       "      <td>540.00</td>\n",
       "      <td>757.186403</td>\n",
       "    </tr>\n",
       "    <tr>\n",
       "      <th>24</th>\n",
       "      <td>490.00</td>\n",
       "      <td>452.006464</td>\n",
       "    </tr>\n",
       "    <tr>\n",
       "      <th>25</th>\n",
       "      <td>3140.00</td>\n",
       "      <td>1062.366342</td>\n",
       "    </tr>\n",
       "    <tr>\n",
       "      <th>26</th>\n",
       "      <td>2270.00</td>\n",
       "      <td>1552.834102</td>\n",
       "    </tr>\n",
       "    <tr>\n",
       "      <th>27</th>\n",
       "      <td>1345.47</td>\n",
       "      <td>1036.753026</td>\n",
       "    </tr>\n",
       "    <tr>\n",
       "      <th>28</th>\n",
       "      <td>710.00</td>\n",
       "      <td>593.697150</td>\n",
       "    </tr>\n",
       "    <tr>\n",
       "      <th>29</th>\n",
       "      <td>290.00</td>\n",
       "      <td>321.215061</td>\n",
       "    </tr>\n",
       "  </tbody>\n",
       "</table>\n",
       "</div>"
      ],
      "text/plain": [
       "     Actual    Predicted\n",
       "0   1105.00   801.873465\n",
       "1    902.00   299.416494\n",
       "2    552.00   574.514411\n",
       "3   3290.00  1247.654162\n",
       "4   1180.00  1084.164909\n",
       "5    670.00   680.891418\n",
       "6    385.00   549.010087\n",
       "7    902.00  1126.454129\n",
       "8    846.65   738.766614\n",
       "9    824.61  1007.215967\n",
       "10   490.00   615.495717\n",
       "11   379.06   737.785678\n",
       "12   413.00   707.049699\n",
       "13   480.00   746.287119\n",
       "14   490.00   606.994276\n",
       "15   891.00   648.302560\n",
       "16   319.00   472.715102\n",
       "17  1550.00   898.877089\n",
       "18   339.00   446.556822\n",
       "19   902.00   375.711479\n",
       "20   277.00   563.615127\n",
       "21   902.00   887.977805\n",
       "22   700.00  1087.107716\n",
       "23   540.00   757.186403\n",
       "24   490.00   452.006464\n",
       "25  3140.00  1062.366342\n",
       "26  2270.00  1552.834102\n",
       "27  1345.47  1036.753026\n",
       "28   710.00   593.697150\n",
       "29   290.00   321.215061"
      ]
     },
     "execution_count": 35,
     "metadata": {},
     "output_type": "execute_result"
    }
   ],
   "source": [
    "# Create a dataframe comparing the actual and predicted values of y.\n",
    "\n",
    "data = pd.DataFrame({'Actual': y_test.flatten(), 'Predicted': y_predicted.flatten()})\n",
    "data.head(30)"
   ]
  },
  {
   "cell_type": "markdown",
   "id": "18f15d02",
   "metadata": {},
   "source": [
    "## Compare how the regression fits the training set"
   ]
  },
  {
   "cell_type": "code",
   "execution_count": 36,
   "id": "d44cc8d9",
   "metadata": {},
   "outputs": [],
   "source": [
    "# Predict.\n",
    "y_predicted_train = regression.predict(X_train) # This is predicting X_train!"
   ]
  },
  {
   "cell_type": "code",
   "execution_count": 37,
   "id": "cad33439",
   "metadata": {},
   "outputs": [],
   "source": [
    "rmse = mean_squared_error(y_train, y_predicted_train)\n",
    "r2 = r2_score(y_train, y_predicted_train)"
   ]
  },
  {
   "cell_type": "code",
   "execution_count": 38,
   "id": "e04056f7",
   "metadata": {},
   "outputs": [
    {
     "name": "stdout",
     "output_type": "stream",
     "text": [
      "Slope: [[10.89928355]]\n",
      "Mean squared error:  152140.96378925987\n",
      "R2 score:  0.44516146692304115\n"
     ]
    }
   ],
   "source": [
    "print('Slope:' ,regression.coef_)\n",
    "print('Mean squared error: ', rmse)\n",
    "print('R2 score: ', r2)"
   ]
  },
  {
   "cell_type": "code",
   "execution_count": 39,
   "id": "8b2c68a3",
   "metadata": {},
   "outputs": [
    {
     "data": {
      "image/png": "[encoded data removed]",
      "text/plain": [
       "<Figure size 640x480 with 1 Axes>"
      ]
     },
     "metadata": {},
     "output_type": "display_data"
    }
   ],
   "source": [
    "# Visualizing the training set results.\n",
    "\n",
    "plot_test = plt\n",
    "plot_test.scatter(X_train, y_train, color='green', s = 15)\n",
    "plot_test.plot(X_train, y_predicted_train, color='red', linewidth =3)\n",
    "plot_test.title('Living space vs Total rent (Train set)')\n",
    "plot_test.xlabel('Living space')\n",
    "plot_test.ylabel('Total rent')\n",
    "plot_test.show()"
   ]
  },
  {
   "cell_type": "markdown",
   "id": "23f8366b",
   "metadata": {},
   "source": [
    "The model outcome on the training set is similar to that of the one we have in the test set. The line fits the data but it is still not a good fit and it shows that there is not a good linear relationship between these two variables. In detail, the Mean squared error is huge regarding the data we have which shows the regression line is not an actual representation of the data. The R2 score is only 0.44, which indicates that this relationship isn’t that great of a fit either. Also, there’s difference between the actual and predicted y values which shows that model isn’t doing a great job of explaining the relationship between these two variables. It confirms that relatioship is not purely linear."
   ]
  },
  {
   "cell_type": "markdown",
   "id": "b6334445",
   "metadata": {},
   "source": [
    "## Bonus Task"
   ]
  },
  {
   "cell_type": "code",
   "execution_count": 40,
   "id": "0aa96e7a",
   "metadata": {},
   "outputs": [],
   "source": [
    "# Clean the extreme values from the \"Price per Unit\" variable observed during the consistency checks.\n",
    "\n",
    "df_test = df[df['livingSpace'] <=300] "
   ]
  },
  {
   "cell_type": "code",
   "execution_count": 43,
   "id": "7ba1702e",
   "metadata": {},
   "outputs": [
    {
     "data": {
      "image/png": "[encoded data removed]",
      "text/plain": [
       "<Figure size 640x480 with 1 Axes>"
      ]
     },
     "metadata": {},
     "output_type": "display_data"
    }
   ],
   "source": [
    "# Create a scatterplot using matplotlib for another look at how the chosen variables plot against each other.\n",
    "\n",
    "df_test.plot(x = 'livingSpace', y='totalRent',style='o') # The style option creates a scatterplot; without it, we only have lines.\n",
    "plt.title('Living space vs Total rent')  \n",
    "plt.xlabel('Living space')  \n",
    "plt.ylabel('Total rent')  \n",
    "plt.show()"
   ]
  },
  {
   "cell_type": "code",
   "execution_count": 44,
   "id": "de5ccf6f",
   "metadata": {},
   "outputs": [],
   "source": [
    "# Reshape again.\n",
    "\n",
    "X_2 = df_test['livingSpace'].values.reshape(-1,1)\n",
    "y_2 = df_test['totalRent'].values.reshape(-1,1)"
   ]
  },
  {
   "cell_type": "code",
   "execution_count": 45,
   "id": "d25d79ac",
   "metadata": {},
   "outputs": [],
   "source": [
    "X_train_2, X_test_2, y_train_2, y_test_2 = train_test_split(X_2, y_2, test_size=0.3, random_state=0)"
   ]
  },
  {
   "cell_type": "code",
   "execution_count": 46,
   "id": "7538b597",
   "metadata": {},
   "outputs": [
    {
     "data": {
      "text/html": [
       "<style>#sk-container-id-2 {color: black;background-color: white;}#sk-container-id-2 pre{padding: 0;}#sk-container-id-2 div.sk-toggleable {background-color: white;}#sk-container-id-2 label.sk-toggleable__label {cursor: pointer;display: block;width: 100%;margin-bottom: 0;padding: 0.3em;box-sizing: border-box;text-align: center;}#sk-container-id-2 label.sk-toggleable__label-arrow:before {content: \"▸\";float: left;margin-right: 0.25em;color: #696969;}#sk-container-id-2 label.sk-toggleable__label-arrow:hover:before {color: black;}#sk-container-id-2 div.sk-estimator:hover label.sk-toggleable__label-arrow:before {color: black;}#sk-container-id-2 div.sk-toggleable__content {max-height: 0;max-width: 0;overflow: hidden;text-align: left;background-color: #f0f8ff;}#sk-container-id-2 div.sk-toggleable__content pre {margin: 0.2em;color: black;border-radius: 0.25em;background-color: #f0f8ff;}#sk-container-id-2 input.sk-toggleable__control:checked~div.sk-toggleable__content {max-height: 200px;max-width: 100%;overflow: auto;}#sk-container-id-2 input.sk-toggleable__control:checked~label.sk-toggleable__label-arrow:before {content: \"▾\";}#sk-container-id-2 div.sk-estimator input.sk-toggleable__control:checked~label.sk-toggleable__label {background-color: #d4ebff;}#sk-container-id-2 div.sk-label input.sk-toggleable__control:checked~label.sk-toggleable__label {background-color: #d4ebff;}#sk-container-id-2 input.sk-hidden--visually {border: 0;clip: rect(1px 1px 1px 1px);clip: rect(1px, 1px, 1px, 1px);height: 1px;margin: -1px;overflow: hidden;padding: 0;position: absolute;width: 1px;}#sk-container-id-2 div.sk-estimator {font-family: monospace;background-color: #f0f8ff;border: 1px dotted black;border-radius: 0.25em;box-sizing: border-box;margin-bottom: 0.5em;}#sk-container-id-2 div.sk-estimator:hover {background-color: #d4ebff;}#sk-container-id-2 div.sk-parallel-item::after {content: \"\";width: 100%;border-bottom: 1px solid gray;flex-grow: 1;}#sk-container-id-2 div.sk-label:hover label.sk-toggleable__label {background-color: #d4ebff;}#sk-container-id-2 div.sk-serial::before {content: \"\";position: absolute;border-left: 1px solid gray;box-sizing: border-box;top: 0;bottom: 0;left: 50%;z-index: 0;}#sk-container-id-2 div.sk-serial {display: flex;flex-direction: column;align-items: center;background-color: white;padding-right: 0.2em;padding-left: 0.2em;position: relative;}#sk-container-id-2 div.sk-item {position: relative;z-index: 1;}#sk-container-id-2 div.sk-parallel {display: flex;align-items: stretch;justify-content: center;background-color: white;position: relative;}#sk-container-id-2 div.sk-item::before, #sk-container-id-2 div.sk-parallel-item::before {content: \"\";position: absolute;border-left: 1px solid gray;box-sizing: border-box;top: 0;bottom: 0;left: 50%;z-index: -1;}#sk-container-id-2 div.sk-parallel-item {display: flex;flex-direction: column;z-index: 1;position: relative;background-color: white;}#sk-container-id-2 div.sk-parallel-item:first-child::after {align-self: flex-end;width: 50%;}#sk-container-id-2 div.sk-parallel-item:last-child::after {align-self: flex-start;width: 50%;}#sk-container-id-2 div.sk-parallel-item:only-child::after {width: 0;}#sk-container-id-2 div.sk-dashed-wrapped {border: 1px dashed gray;margin: 0 0.4em 0.5em 0.4em;box-sizing: border-box;padding-bottom: 0.4em;background-color: white;}#sk-container-id-2 div.sk-label label {font-family: monospace;font-weight: bold;display: inline-block;line-height: 1.2em;}#sk-container-id-2 div.sk-label-container {text-align: center;}#sk-container-id-2 div.sk-container {/* jupyter's `normalize.less` sets `[hidden] { display: none; }` but bootstrap.min.css set `[hidden] { display: none !important; }` so we also need the `!important` here to be able to override the default hidden behavior on the sphinx rendered scikit-learn.org. See: https://github.com/scikit-learn/scikit-learn/issues/21755 */display: inline-block !important;position: relative;}#sk-container-id-2 div.sk-text-repr-fallback {display: none;}</style><div id=\"sk-container-id-2\" class=\"sk-top-container\"><div class=\"sk-text-repr-fallback\"><pre>LinearRegression()</pre><b>In a Jupyter environment, please rerun this cell to show the HTML representation or trust the notebook. <br />On GitHub, the HTML representation is unable to render, please try loading this page with nbviewer.org.</b></div><div class=\"sk-container\" hidden><div class=\"sk-item\"><div class=\"sk-estimator sk-toggleable\"><input class=\"sk-toggleable__control sk-hidden--visually\" id=\"sk-estimator-id-2\" type=\"checkbox\" checked><label for=\"sk-estimator-id-2\" class=\"sk-toggleable__label sk-toggleable__label-arrow\">LinearRegression</label><div class=\"sk-toggleable__content\"><pre>LinearRegression()</pre></div></div></div></div></div>"
      ],
      "text/plain": [
       "LinearRegression()"
      ]
     },
     "execution_count": 46,
     "metadata": {},
     "output_type": "execute_result"
    }
   ],
   "source": [
    "# Run and fit the regression.\n",
    "\n",
    "regression = LinearRegression()  \n",
    "regression.fit(X_train_2, y_train_2)"
   ]
  },
  {
   "cell_type": "code",
   "execution_count": 47,
   "id": "97c5b71c",
   "metadata": {},
   "outputs": [],
   "source": [
    "# Predict.\n",
    "\n",
    "y_predicted_2 = regression.predict(X_test_2)"
   ]
  },
  {
   "cell_type": "code",
   "execution_count": 48,
   "id": "da721624",
   "metadata": {},
   "outputs": [],
   "source": [
    "rmse = mean_squared_error(y_test_2, y_predicted_2)\n",
    "r2 = r2_score(y_test_2, y_predicted_2)"
   ]
  },
  {
   "cell_type": "code",
   "execution_count": 49,
   "id": "775b9538",
   "metadata": {},
   "outputs": [
    {
     "name": "stdout",
     "output_type": "stream",
     "text": [
      "Slope: [[10.73186962]]\n",
      "Mean squared error:  138184.06628764636\n",
      "R2 score:  0.44975113521780563\n"
     ]
    }
   ],
   "source": [
    "print('Slope:' ,regression.coef_)\n",
    "print('Mean squared error: ', rmse)\n",
    "print('R2 score: ', r2)"
   ]
  },
  {
   "cell_type": "code",
   "execution_count": 50,
   "id": "aebf42b1",
   "metadata": {},
   "outputs": [
    {
     "data": {
      "image/png": "[encoded data removed]",
      "text/plain": [
       "<Figure size 640x480 with 1 Axes>"
      ]
     },
     "metadata": {},
     "output_type": "display_data"
    }
   ],
   "source": [
    "# Visualizing the test set results.\n",
    "plot_test = plt\n",
    "plot_test.scatter(X_test_2, y_test_2, color='gray', s = 15)\n",
    "plot_test.plot(X_test_2, y_predicted_2, color='red', linewidth =3)\n",
    "plot_test.title('Living space vs Total rent (Test set)')\n",
    "plot_test.xlabel('Living space')\n",
    "plot_test.ylabel('Total rent')\n",
    "plot_test.show()"
   ]
  },
  {
   "cell_type": "code",
   "execution_count": 51,
   "id": "9acf7947",
   "metadata": {},
   "outputs": [
    {
     "data": {
      "text/html": [
       "<div>\n",
       "<style scoped>\n",
       "    .dataframe tbody tr th:only-of-type {\n",
       "        vertical-align: middle;\n",
       "    }\n",
       "\n",
       "    .dataframe tbody tr th {\n",
       "        vertical-align: top;\n",
       "    }\n",
       "\n",
       "    .dataframe thead th {\n",
       "        text-align: right;\n",
       "    }\n",
       "</style>\n",
       "<table border=\"1\" class=\"dataframe\">\n",
       "  <thead>\n",
       "    <tr style=\"text-align: right;\">\n",
       "      <th></th>\n",
       "      <th>Actual</th>\n",
       "      <th>Predicted</th>\n",
       "    </tr>\n",
       "  </thead>\n",
       "  <tbody>\n",
       "    <tr>\n",
       "      <th>0</th>\n",
       "      <td>902.00</td>\n",
       "      <td>1326.837674</td>\n",
       "    </tr>\n",
       "    <tr>\n",
       "      <th>1</th>\n",
       "      <td>1180.00</td>\n",
       "      <td>1305.373935</td>\n",
       "    </tr>\n",
       "    <tr>\n",
       "      <th>2</th>\n",
       "      <td>1331.14</td>\n",
       "      <td>967.105405</td>\n",
       "    </tr>\n",
       "    <tr>\n",
       "      <th>3</th>\n",
       "      <td>1016.73</td>\n",
       "      <td>886.831020</td>\n",
       "    </tr>\n",
       "    <tr>\n",
       "      <th>4</th>\n",
       "      <td>370.00</td>\n",
       "      <td>629.266149</td>\n",
       "    </tr>\n",
       "    <tr>\n",
       "      <th>5</th>\n",
       "      <td>1660.00</td>\n",
       "      <td>1283.910196</td>\n",
       "    </tr>\n",
       "    <tr>\n",
       "      <th>6</th>\n",
       "      <td>1115.00</td>\n",
       "      <td>811.707933</td>\n",
       "    </tr>\n",
       "    <tr>\n",
       "      <th>7</th>\n",
       "      <td>520.00</td>\n",
       "      <td>564.874931</td>\n",
       "    </tr>\n",
       "    <tr>\n",
       "      <th>8</th>\n",
       "      <td>425.00</td>\n",
       "      <td>498.659296</td>\n",
       "    </tr>\n",
       "    <tr>\n",
       "      <th>9</th>\n",
       "      <td>950.00</td>\n",
       "      <td>1380.497023</td>\n",
       "    </tr>\n",
       "    <tr>\n",
       "      <th>10</th>\n",
       "      <td>717.00</td>\n",
       "      <td>908.294759</td>\n",
       "    </tr>\n",
       "    <tr>\n",
       "      <th>11</th>\n",
       "      <td>1650.00</td>\n",
       "      <td>779.512324</td>\n",
       "    </tr>\n",
       "    <tr>\n",
       "      <th>12</th>\n",
       "      <td>805.20</td>\n",
       "      <td>994.149716</td>\n",
       "    </tr>\n",
       "    <tr>\n",
       "      <th>13</th>\n",
       "      <td>1468.05</td>\n",
       "      <td>1029.564886</td>\n",
       "    </tr>\n",
       "    <tr>\n",
       "      <th>14</th>\n",
       "      <td>902.00</td>\n",
       "      <td>709.755171</td>\n",
       "    </tr>\n",
       "    <tr>\n",
       "      <th>15</th>\n",
       "      <td>225.00</td>\n",
       "      <td>312.783314</td>\n",
       "    </tr>\n",
       "    <tr>\n",
       "      <th>16</th>\n",
       "      <td>344.00</td>\n",
       "      <td>543.411192</td>\n",
       "    </tr>\n",
       "    <tr>\n",
       "      <th>17</th>\n",
       "      <td>387.00</td>\n",
       "      <td>715.121106</td>\n",
       "    </tr>\n",
       "    <tr>\n",
       "      <th>18</th>\n",
       "      <td>450.00</td>\n",
       "      <td>575.606801</td>\n",
       "    </tr>\n",
       "    <tr>\n",
       "      <th>19</th>\n",
       "      <td>700.00</td>\n",
       "      <td>951.222238</td>\n",
       "    </tr>\n",
       "    <tr>\n",
       "      <th>20</th>\n",
       "      <td>560.00</td>\n",
       "      <td>1359.033283</td>\n",
       "    </tr>\n",
       "    <tr>\n",
       "      <th>21</th>\n",
       "      <td>902.00</td>\n",
       "      <td>747.316715</td>\n",
       "    </tr>\n",
       "    <tr>\n",
       "      <th>22</th>\n",
       "      <td>1050.00</td>\n",
       "      <td>1090.736543</td>\n",
       "    </tr>\n",
       "    <tr>\n",
       "      <th>23</th>\n",
       "      <td>685.00</td>\n",
       "      <td>682.925497</td>\n",
       "    </tr>\n",
       "    <tr>\n",
       "      <th>24</th>\n",
       "      <td>895.00</td>\n",
       "      <td>1316.105805</td>\n",
       "    </tr>\n",
       "    <tr>\n",
       "      <th>25</th>\n",
       "      <td>1593.00</td>\n",
       "      <td>1381.355572</td>\n",
       "    </tr>\n",
       "    <tr>\n",
       "      <th>26</th>\n",
       "      <td>490.00</td>\n",
       "      <td>790.244193</td>\n",
       "    </tr>\n",
       "    <tr>\n",
       "      <th>27</th>\n",
       "      <td>1010.00</td>\n",
       "      <td>500.054439</td>\n",
       "    </tr>\n",
       "    <tr>\n",
       "      <th>28</th>\n",
       "      <td>370.00</td>\n",
       "      <td>533.752509</td>\n",
       "    </tr>\n",
       "    <tr>\n",
       "      <th>29</th>\n",
       "      <td>570.00</td>\n",
       "      <td>994.149716</td>\n",
       "    </tr>\n",
       "  </tbody>\n",
       "</table>\n",
       "</div>"
      ],
      "text/plain": [
       "     Actual    Predicted\n",
       "0    902.00  1326.837674\n",
       "1   1180.00  1305.373935\n",
       "2   1331.14   967.105405\n",
       "3   1016.73   886.831020\n",
       "4    370.00   629.266149\n",
       "5   1660.00  1283.910196\n",
       "6   1115.00   811.707933\n",
       "7    520.00   564.874931\n",
       "8    425.00   498.659296\n",
       "9    950.00  1380.497023\n",
       "10   717.00   908.294759\n",
       "11  1650.00   779.512324\n",
       "12   805.20   994.149716\n",
       "13  1468.05  1029.564886\n",
       "14   902.00   709.755171\n",
       "15   225.00   312.783314\n",
       "16   344.00   543.411192\n",
       "17   387.00   715.121106\n",
       "18   450.00   575.606801\n",
       "19   700.00   951.222238\n",
       "20   560.00  1359.033283\n",
       "21   902.00   747.316715\n",
       "22  1050.00  1090.736543\n",
       "23   685.00   682.925497\n",
       "24   895.00  1316.105805\n",
       "25  1593.00  1381.355572\n",
       "26   490.00   790.244193\n",
       "27  1010.00   500.054439\n",
       "28   370.00   533.752509\n",
       "29   570.00   994.149716"
      ]
     },
     "execution_count": 51,
     "metadata": {},
     "output_type": "execute_result"
    }
   ],
   "source": [
    "data = pd.DataFrame({'Actual': y_test_2.flatten(), 'Predicted': y_predicted_2.flatten()})\n",
    "data.head(30)"
   ]
  },
  {
   "cell_type": "markdown",
   "id": "890a9859",
   "metadata": {},
   "source": [
    "There is no significant difference when ourliers are removed."
   ]
  },
  {
   "cell_type": "code",
   "execution_count": 52,
   "id": "9266bff3",
   "metadata": {},
   "outputs": [],
   "source": [
    "# visualizing relationship between year of construction and living space."
   ]
  },
  {
   "cell_type": "code",
   "execution_count": 53,
   "id": "b4681d91",
   "metadata": {},
   "outputs": [],
   "source": [
    "# Reshape the variables into NumPy arrays and put them into separate objects.\n",
    "\n",
    "X = df['yearConstructed'].values.reshape(-1,1)\n",
    "y = df['totalRent'].values.reshape(-1,1)"
   ]
  },
  {
   "cell_type": "code",
   "execution_count": 54,
   "id": "ad7be2da",
   "metadata": {},
   "outputs": [
    {
     "data": {
      "text/plain": [
       "array([[1965],\n",
       "       [1871],\n",
       "       [2019],\n",
       "       ...,\n",
       "       [1965],\n",
       "       [2019],\n",
       "       [1972]], dtype=int64)"
      ]
     },
     "execution_count": 54,
     "metadata": {},
     "output_type": "execute_result"
    }
   ],
   "source": [
    "X"
   ]
  },
  {
   "cell_type": "code",
   "execution_count": 55,
   "id": "a95708da",
   "metadata": {},
   "outputs": [
    {
     "data": {
      "text/plain": [
       "array([[ 840.],\n",
       "       [ 902.],\n",
       "       [1300.],\n",
       "       ...,\n",
       "       [ 930.],\n",
       "       [1015.],\n",
       "       [ 902.]])"
      ]
     },
     "execution_count": 55,
     "metadata": {},
     "output_type": "execute_result"
    }
   ],
   "source": [
    "y"
   ]
  },
  {
   "cell_type": "code",
   "execution_count": 56,
   "id": "0b67d3de",
   "metadata": {},
   "outputs": [],
   "source": [
    "# Split data into a training set and a test set.\n",
    "\n",
    "X_train, X_test, y_train, y_test = train_test_split(X, y, test_size=0.3, random_state=0)"
   ]
  },
  {
   "cell_type": "code",
   "execution_count": 57,
   "id": "dd855f71",
   "metadata": {},
   "outputs": [],
   "source": [
    "# Create a regression object.\n",
    "\n",
    "regression = LinearRegression()  # This is the regression object, which will be fit onto the training set."
   ]
  },
  {
   "cell_type": "code",
   "execution_count": 58,
   "id": "b2665187",
   "metadata": {},
   "outputs": [
    {
     "data": {
      "text/html": [
       "<style>#sk-container-id-3 {color: black;background-color: white;}#sk-container-id-3 pre{padding: 0;}#sk-container-id-3 div.sk-toggleable {background-color: white;}#sk-container-id-3 label.sk-toggleable__label {cursor: pointer;display: block;width: 100%;margin-bottom: 0;padding: 0.3em;box-sizing: border-box;text-align: center;}#sk-container-id-3 label.sk-toggleable__label-arrow:before {content: \"▸\";float: left;margin-right: 0.25em;color: #696969;}#sk-container-id-3 label.sk-toggleable__label-arrow:hover:before {color: black;}#sk-container-id-3 div.sk-estimator:hover label.sk-toggleable__label-arrow:before {color: black;}#sk-container-id-3 div.sk-toggleable__content {max-height: 0;max-width: 0;overflow: hidden;text-align: left;background-color: #f0f8ff;}#sk-container-id-3 div.sk-toggleable__content pre {margin: 0.2em;color: black;border-radius: 0.25em;background-color: #f0f8ff;}#sk-container-id-3 input.sk-toggleable__control:checked~div.sk-toggleable__content {max-height: 200px;max-width: 100%;overflow: auto;}#sk-container-id-3 input.sk-toggleable__control:checked~label.sk-toggleable__label-arrow:before {content: \"▾\";}#sk-container-id-3 div.sk-estimator input.sk-toggleable__control:checked~label.sk-toggleable__label {background-color: #d4ebff;}#sk-container-id-3 div.sk-label input.sk-toggleable__control:checked~label.sk-toggleable__label {background-color: #d4ebff;}#sk-container-id-3 input.sk-hidden--visually {border: 0;clip: rect(1px 1px 1px 1px);clip: rect(1px, 1px, 1px, 1px);height: 1px;margin: -1px;overflow: hidden;padding: 0;position: absolute;width: 1px;}#sk-container-id-3 div.sk-estimator {font-family: monospace;background-color: #f0f8ff;border: 1px dotted black;border-radius: 0.25em;box-sizing: border-box;margin-bottom: 0.5em;}#sk-container-id-3 div.sk-estimator:hover {background-color: #d4ebff;}#sk-container-id-3 div.sk-parallel-item::after {content: \"\";width: 100%;border-bottom: 1px solid gray;flex-grow: 1;}#sk-container-id-3 div.sk-label:hover label.sk-toggleable__label {background-color: #d4ebff;}#sk-container-id-3 div.sk-serial::before {content: \"\";position: absolute;border-left: 1px solid gray;box-sizing: border-box;top: 0;bottom: 0;left: 50%;z-index: 0;}#sk-container-id-3 div.sk-serial {display: flex;flex-direction: column;align-items: center;background-color: white;padding-right: 0.2em;padding-left: 0.2em;position: relative;}#sk-container-id-3 div.sk-item {position: relative;z-index: 1;}#sk-container-id-3 div.sk-parallel {display: flex;align-items: stretch;justify-content: center;background-color: white;position: relative;}#sk-container-id-3 div.sk-item::before, #sk-container-id-3 div.sk-parallel-item::before {content: \"\";position: absolute;border-left: 1px solid gray;box-sizing: border-box;top: 0;bottom: 0;left: 50%;z-index: -1;}#sk-container-id-3 div.sk-parallel-item {display: flex;flex-direction: column;z-index: 1;position: relative;background-color: white;}#sk-container-id-3 div.sk-parallel-item:first-child::after {align-self: flex-end;width: 50%;}#sk-container-id-3 div.sk-parallel-item:last-child::after {align-self: flex-start;width: 50%;}#sk-container-id-3 div.sk-parallel-item:only-child::after {width: 0;}#sk-container-id-3 div.sk-dashed-wrapped {border: 1px dashed gray;margin: 0 0.4em 0.5em 0.4em;box-sizing: border-box;padding-bottom: 0.4em;background-color: white;}#sk-container-id-3 div.sk-label label {font-family: monospace;font-weight: bold;display: inline-block;line-height: 1.2em;}#sk-container-id-3 div.sk-label-container {text-align: center;}#sk-container-id-3 div.sk-container {/* jupyter's `normalize.less` sets `[hidden] { display: none; }` but bootstrap.min.css set `[hidden] { display: none !important; }` so we also need the `!important` here to be able to override the default hidden behavior on the sphinx rendered scikit-learn.org. See: https://github.com/scikit-learn/scikit-learn/issues/21755 */display: inline-block !important;position: relative;}#sk-container-id-3 div.sk-text-repr-fallback {display: none;}</style><div id=\"sk-container-id-3\" class=\"sk-top-container\"><div class=\"sk-text-repr-fallback\"><pre>LinearRegression()</pre><b>In a Jupyter environment, please rerun this cell to show the HTML representation or trust the notebook. <br />On GitHub, the HTML representation is unable to render, please try loading this page with nbviewer.org.</b></div><div class=\"sk-container\" hidden><div class=\"sk-item\"><div class=\"sk-estimator sk-toggleable\"><input class=\"sk-toggleable__control sk-hidden--visually\" id=\"sk-estimator-id-3\" type=\"checkbox\" checked><label for=\"sk-estimator-id-3\" class=\"sk-toggleable__label sk-toggleable__label-arrow\">LinearRegression</label><div class=\"sk-toggleable__content\"><pre>LinearRegression()</pre></div></div></div></div></div>"
      ],
      "text/plain": [
       "LinearRegression()"
      ]
     },
     "execution_count": 58,
     "metadata": {},
     "output_type": "execute_result"
    }
   ],
   "source": [
    "# Fit the regression object onto the training set.\n",
    "\n",
    "regression.fit(X_train, y_train)"
   ]
  },
  {
   "cell_type": "code",
   "execution_count": 59,
   "id": "6ab2bbb7",
   "metadata": {},
   "outputs": [],
   "source": [
    "# Predict the values of y using X.\n",
    "\n",
    "y_predicted = regression.predict(X_test)"
   ]
  },
  {
   "cell_type": "code",
   "execution_count": 60,
   "id": "db8d96c1",
   "metadata": {},
   "outputs": [
    {
     "data": {
      "image/png": "[encoded data removed]",
      "text/plain": [
       "<Figure size 640x480 with 1 Axes>"
      ]
     },
     "metadata": {},
     "output_type": "display_data"
    }
   ],
   "source": [
    "# Create a plot that shows the regression line from the model on the test set.\n",
    "\n",
    "plot_test = plt\n",
    "plot_test.scatter(X_test, y_test, color='gray', s = 15)\n",
    "plot_test.plot(X_test, y_predicted, color='red', linewidth =3)\n",
    "plot_test.title('Year constructed vs Total rent (Test set)')\n",
    "plot_test.xlabel('Year constructed')\n",
    "plot_test.ylabel('Total rent')\n",
    "plot_test.show()"
   ]
  },
  {
   "cell_type": "code",
   "execution_count": 61,
   "id": "1b486de2",
   "metadata": {},
   "outputs": [],
   "source": [
    "# Create objects that contain the model summary statistics.\n",
    "\n",
    "rmse = mean_squared_error(y_test, y_predicted) # This is the mean squared error\n",
    "r2 = r2_score(y_test, y_predicted) # This is the R2 score. "
   ]
  },
  {
   "cell_type": "code",
   "execution_count": 62,
   "id": "b2584bfc",
   "metadata": {},
   "outputs": [
    {
     "name": "stdout",
     "output_type": "stream",
     "text": [
      "Slope: [[2.75550233]]\n",
      "Mean squared error:  256669.26434980377\n",
      "R2 score:  0.03288425719578636\n"
     ]
    }
   ],
   "source": [
    "# Print the model summary statistics. This is where you evaluate the performance of the model.\n",
    "\n",
    "print('Slope:' ,regression.coef_)\n",
    "print('Mean squared error: ', rmse)\n",
    "print('R2 score: ', r2)"
   ]
  },
  {
   "cell_type": "code",
   "execution_count": 63,
   "id": "7b6dac55",
   "metadata": {},
   "outputs": [
    {
     "data": {
      "text/plain": [
       "array([[951.62118892],\n",
       "       [891.00013776],\n",
       "       [902.02214707],\n",
       "       ...,\n",
       "       [838.64559359],\n",
       "       [637.49392385],\n",
       "       [838.64559359]])"
      ]
     },
     "execution_count": 63,
     "metadata": {},
     "output_type": "execute_result"
    }
   ],
   "source": [
    "y_predicted"
   ]
  },
  {
   "cell_type": "code",
   "execution_count": 64,
   "id": "12a04ab6",
   "metadata": {},
   "outputs": [
    {
     "data": {
      "text/html": [
       "<div>\n",
       "<style scoped>\n",
       "    .dataframe tbody tr th:only-of-type {\n",
       "        vertical-align: middle;\n",
       "    }\n",
       "\n",
       "    .dataframe tbody tr th {\n",
       "        vertical-align: top;\n",
       "    }\n",
       "\n",
       "    .dataframe thead th {\n",
       "        text-align: right;\n",
       "    }\n",
       "</style>\n",
       "<table border=\"1\" class=\"dataframe\">\n",
       "  <thead>\n",
       "    <tr style=\"text-align: right;\">\n",
       "      <th></th>\n",
       "      <th>Actual</th>\n",
       "      <th>Predicted</th>\n",
       "    </tr>\n",
       "  </thead>\n",
       "  <tbody>\n",
       "    <tr>\n",
       "      <th>0</th>\n",
       "      <td>1105.00</td>\n",
       "      <td>951.621189</td>\n",
       "    </tr>\n",
       "    <tr>\n",
       "      <th>1</th>\n",
       "      <td>902.00</td>\n",
       "      <td>891.000138</td>\n",
       "    </tr>\n",
       "    <tr>\n",
       "      <th>2</th>\n",
       "      <td>552.00</td>\n",
       "      <td>902.022147</td>\n",
       "    </tr>\n",
       "    <tr>\n",
       "      <th>3</th>\n",
       "      <td>3290.00</td>\n",
       "      <td>937.843677</td>\n",
       "    </tr>\n",
       "    <tr>\n",
       "      <th>4</th>\n",
       "      <td>1180.00</td>\n",
       "      <td>921.310663</td>\n",
       "    </tr>\n",
       "    <tr>\n",
       "      <th>5</th>\n",
       "      <td>670.00</td>\n",
       "      <td>838.645594</td>\n",
       "    </tr>\n",
       "    <tr>\n",
       "      <th>6</th>\n",
       "      <td>385.00</td>\n",
       "      <td>904.777649</td>\n",
       "    </tr>\n",
       "    <tr>\n",
       "      <th>7</th>\n",
       "      <td>902.00</td>\n",
       "      <td>962.643198</td>\n",
       "    </tr>\n",
       "    <tr>\n",
       "      <th>8</th>\n",
       "      <td>846.65</td>\n",
       "      <td>813.846073</td>\n",
       "    </tr>\n",
       "    <tr>\n",
       "      <th>9</th>\n",
       "      <td>824.61</td>\n",
       "      <td>902.022147</td>\n",
       "    </tr>\n",
       "    <tr>\n",
       "      <th>10</th>\n",
       "      <td>490.00</td>\n",
       "      <td>838.645594</td>\n",
       "    </tr>\n",
       "    <tr>\n",
       "      <th>11</th>\n",
       "      <td>379.06</td>\n",
       "      <td>838.645594</td>\n",
       "    </tr>\n",
       "    <tr>\n",
       "      <th>12</th>\n",
       "      <td>413.00</td>\n",
       "      <td>879.978128</td>\n",
       "    </tr>\n",
       "    <tr>\n",
       "      <th>13</th>\n",
       "      <td>480.00</td>\n",
       "      <td>838.645594</td>\n",
       "    </tr>\n",
       "    <tr>\n",
       "      <th>14</th>\n",
       "      <td>490.00</td>\n",
       "      <td>907.533152</td>\n",
       "    </tr>\n",
       "    <tr>\n",
       "      <th>15</th>\n",
       "      <td>891.00</td>\n",
       "      <td>965.398701</td>\n",
       "    </tr>\n",
       "    <tr>\n",
       "      <th>16</th>\n",
       "      <td>319.00</td>\n",
       "      <td>838.645594</td>\n",
       "    </tr>\n",
       "    <tr>\n",
       "      <th>17</th>\n",
       "      <td>1550.00</td>\n",
       "      <td>962.643198</td>\n",
       "    </tr>\n",
       "    <tr>\n",
       "      <th>18</th>\n",
       "      <td>339.00</td>\n",
       "      <td>643.004929</td>\n",
       "    </tr>\n",
       "    <tr>\n",
       "      <th>19</th>\n",
       "      <td>902.00</td>\n",
       "      <td>857.934110</td>\n",
       "    </tr>\n",
       "    <tr>\n",
       "      <th>20</th>\n",
       "      <td>277.00</td>\n",
       "      <td>692.603970</td>\n",
       "    </tr>\n",
       "    <tr>\n",
       "      <th>21</th>\n",
       "      <td>902.00</td>\n",
       "      <td>849.667603</td>\n",
       "    </tr>\n",
       "    <tr>\n",
       "      <th>22</th>\n",
       "      <td>700.00</td>\n",
       "      <td>838.645594</td>\n",
       "    </tr>\n",
       "    <tr>\n",
       "      <th>23</th>\n",
       "      <td>540.00</td>\n",
       "      <td>722.914496</td>\n",
       "    </tr>\n",
       "    <tr>\n",
       "      <th>24</th>\n",
       "      <td>490.00</td>\n",
       "      <td>637.493924</td>\n",
       "    </tr>\n",
       "    <tr>\n",
       "      <th>25</th>\n",
       "      <td>3140.00</td>\n",
       "      <td>838.645594</td>\n",
       "    </tr>\n",
       "    <tr>\n",
       "      <th>26</th>\n",
       "      <td>2270.00</td>\n",
       "      <td>948.865687</td>\n",
       "    </tr>\n",
       "    <tr>\n",
       "      <th>27</th>\n",
       "      <td>1345.47</td>\n",
       "      <td>899.266645</td>\n",
       "    </tr>\n",
       "    <tr>\n",
       "      <th>28</th>\n",
       "      <td>710.00</td>\n",
       "      <td>954.376691</td>\n",
       "    </tr>\n",
       "    <tr>\n",
       "      <th>29</th>\n",
       "      <td>290.00</td>\n",
       "      <td>838.645594</td>\n",
       "    </tr>\n",
       "  </tbody>\n",
       "</table>\n",
       "</div>"
      ],
      "text/plain": [
       "     Actual   Predicted\n",
       "0   1105.00  951.621189\n",
       "1    902.00  891.000138\n",
       "2    552.00  902.022147\n",
       "3   3290.00  937.843677\n",
       "4   1180.00  921.310663\n",
       "5    670.00  838.645594\n",
       "6    385.00  904.777649\n",
       "7    902.00  962.643198\n",
       "8    846.65  813.846073\n",
       "9    824.61  902.022147\n",
       "10   490.00  838.645594\n",
       "11   379.06  838.645594\n",
       "12   413.00  879.978128\n",
       "13   480.00  838.645594\n",
       "14   490.00  907.533152\n",
       "15   891.00  965.398701\n",
       "16   319.00  838.645594\n",
       "17  1550.00  962.643198\n",
       "18   339.00  643.004929\n",
       "19   902.00  857.934110\n",
       "20   277.00  692.603970\n",
       "21   902.00  849.667603\n",
       "22   700.00  838.645594\n",
       "23   540.00  722.914496\n",
       "24   490.00  637.493924\n",
       "25  3140.00  838.645594\n",
       "26  2270.00  948.865687\n",
       "27  1345.47  899.266645\n",
       "28   710.00  954.376691\n",
       "29   290.00  838.645594"
      ]
     },
     "execution_count": 64,
     "metadata": {},
     "output_type": "execute_result"
    }
   ],
   "source": [
    "# Create a dataframe comparing the actual and predicted values of y.\n",
    "\n",
    "data = pd.DataFrame({'Actual': y_test.flatten(), 'Predicted': y_predicted.flatten()})\n",
    "data.head(30)"
   ]
  },
  {
   "cell_type": "code",
   "execution_count": 65,
   "id": "929e7f78",
   "metadata": {},
   "outputs": [],
   "source": [
    "# Predict.\n",
    "y_predicted_train = regression.predict(X_train) # This is predicting X_train!"
   ]
  },
  {
   "cell_type": "code",
   "execution_count": 66,
   "id": "a13e8ffe",
   "metadata": {},
   "outputs": [],
   "source": [
    "rmse = mean_squared_error(y_train, y_predicted_train)\n",
    "r2 = r2_score(y_train, y_predicted_train)"
   ]
  },
  {
   "cell_type": "code",
   "execution_count": 67,
   "id": "5a7174f8",
   "metadata": {},
   "outputs": [
    {
     "name": "stdout",
     "output_type": "stream",
     "text": [
      "Slope: [[2.75550233]]\n",
      "Mean squared error:  265332.83729462646\n",
      "R2 score:  0.032365258145614195\n"
     ]
    }
   ],
   "source": [
    "print('Slope:' ,regression.coef_)\n",
    "print('Mean squared error: ', rmse)\n",
    "print('R2 score: ', r2)"
   ]
  },
  {
   "cell_type": "code",
   "execution_count": 68,
   "id": "410e48f0",
   "metadata": {},
   "outputs": [
    {
     "data": {
      "image/png": "[encoded data removed]",
      "text/plain": [
       "<Figure size 640x480 with 1 Axes>"
      ]
     },
     "metadata": {},
     "output_type": "display_data"
    }
   ],
   "source": [
    "# Visualizing the training set results.\n",
    "\n",
    "plot_test = plt\n",
    "plot_test.scatter(X_train, y_train, color='green', s = 15)\n",
    "plot_test.plot(X_train, y_predicted_train, color='red', linewidth =3)\n",
    "plot_test.title('Year constructed vs Total rent (Train set)')\n",
    "plot_test.xlabel('Year constructed')\n",
    "plot_test.ylabel('Total rent')\n",
    "plot_test.show()"
   ]
  },
  {
   "cell_type": "markdown",
   "id": "4b4f6eeb",
   "metadata": {},
   "source": [
    "The regression line on the train set between varaiables 'year of construction' and 'total rent' cover very few data points which shows that there is week linear relationship between these two variables. The Mean squared error is also huge regarding the data we have, which shows the regression line is not an actual representation of the data. The R2 score is only 0.03, which indicates that this relationship isn’t that great of a fit either. Also, there’s big difference between the actual and predicted y values which shows that model isn’t doing a great job of explaining the relationship between these two variables. It confirms that relatioship is not purely linear."
   ]
  },
  {
   "cell_type": "markdown",
   "id": "831dfa56",
   "metadata": {},
   "source": [
    "## Conclusion:"
   ]
  },
  {
   "cell_type": "markdown",
   "id": "d3e86eee",
   "metadata": {},
   "source": [
    "Based on the analysis, it becomes evident that the 'year of construction' does not serve as a significant determinant for predicting the total rent of states.\n",
    "The findings suggest that the 'living space' variable might hold more relevance in predicting the total rent of states.\n",
    "The analysis opens the door to the consideration of additional factors, such as heating type, balcony, type of flat etc. which may offer better insights into the total rent dynamics of the states.\""
   ]
  }
 ],
 "metadata": {
  "kernelspec": {
   "display_name": "Python 3 (ipykernel)",
   "language": "python",
   "name": "python3"
  },
  "language_info": {
   "codemirror_mode": {
    "name": "ipython",
    "version": 3
   },
   "file_extension": ".py",
   "mimetype": "text/x-python",
   "name": "python",
   "nbconvert_exporter": "python",
   "pygments_lexer": "ipython3",
   "version": "3.10.9"
  }
 },
 "nbformat": 4,
 "nbformat_minor": 5
}
